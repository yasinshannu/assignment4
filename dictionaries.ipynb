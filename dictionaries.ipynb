{
 "cells": [
  {
   "cell_type": "code",
   "execution_count": 5,
   "id": "b02f38fd",
   "metadata": {},
   "outputs": [
    {
     "name": "stdout",
     "output_type": "stream",
     "text": [
      "<class 'dict'>\n",
      "4\n",
      "2\n",
      "dict_keys(['one', 'two', 'three', 'four'])\n",
      "{'one': 1, 'two': 2, 'three': 3, 'four': 4, 'seven': 7}\n",
      "('seven', 7)\n",
      "{'two': 2, 'four': 4}\n"
     ]
    }
   ],
   "source": [
    "d={\"one\":1,\"two\":2,\"three\":3,\"four\":4}\n",
    "print(type(d))\n",
    "print(len(d))\n",
    "print(d[\"two\"])\n",
    "d.get(\"three\")\n",
    "print(d.keys())\n",
    "d.update({\"seven\":7})\n",
    "print(d)\n",
    "d.pop(\"one\")\n",
    "print(d.popitem())\n",
    "del d[\"three\"]\n",
    "print(d)\n"
   ]
  }
 ],
 "metadata": {
  "kernelspec": {
   "display_name": "Python 3 (ipykernel)",
   "language": "python",
   "name": "python3"
  },
  "language_info": {
   "codemirror_mode": {
    "name": "ipython",
    "version": 3
   },
   "file_extension": ".py",
   "mimetype": "text/x-python",
   "name": "python",
   "nbconvert_exporter": "python",
   "pygments_lexer": "ipython3",
   "version": "3.10.5"
  }
 },
 "nbformat": 4,
 "nbformat_minor": 5
}

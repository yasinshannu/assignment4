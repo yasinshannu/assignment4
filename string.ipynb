{
 "cells": [
  {
   "cell_type": "code",
   "execution_count": 8,
   "id": "ba4f8a4f",
   "metadata": {},
   "outputs": [
    {
     "name": "stdout",
     "output_type": "stream",
     "text": [
      "False\n",
      "True\n",
      "YASIN\n",
      "yasin\n",
      "False\n",
      "1\n",
      "5\n",
      "\n",
      "s\n"
     ]
    },
    {
     "data": {
      "text/plain": [
       "'i like banana'"
      ]
     },
     "execution_count": 8,
     "metadata": {},
     "output_type": "execute_result"
    }
   ],
   "source": [
    "str=\"yasin\"\n",
    "print(str.isupper())\n",
    "print(str.islower())\n",
    "print(str.upper())\n",
    "print(str.lower())\n",
    "print(str.isdigit())\n",
    "print(str.count('a'))\n",
    "print(len(str))\n",
    "print(str[:-5])\n",
    "print(str[-3])\n",
    "string=\"i like apples\"\n",
    "string.replace(\"apples\",\"banana\")"
   ]
  }
 ],
 "metadata": {
  "kernelspec": {
   "display_name": "Python 3 (ipykernel)",
   "language": "python",
   "name": "python3"
  },
  "language_info": {
   "codemirror_mode": {
    "name": "ipython",
    "version": 3
   },
   "file_extension": ".py",
   "mimetype": "text/x-python",
   "name": "python",
   "nbconvert_exporter": "python",
   "pygments_lexer": "ipython3",
   "version": "3.10.5"
  }
 },
 "nbformat": 4,
 "nbformat_minor": 5
}

{
 "cells": [
  {
   "cell_type": "code",
   "execution_count": 1,
   "id": "adb1ec76",
   "metadata": {},
   "outputs": [
    {
     "name": "stdout",
     "output_type": "stream",
     "text": [
      "['ce', 'ce']\n",
      "<re.Match object; span=(1, 3), match='in'>\n",
      "['The', 'rain', 'in', 'spain']\n",
      "Replace7all7white7spaces\n",
      "['a', 'a', 'a']\n",
      "[]\n",
      "['t', 'i', 'm', 'e', 's', 'b', 'e', 'f', 'o', 'r', 'e', 'A', 'M']\n",
      "['hello']\n"
     ]
    }
   ],
   "source": [
    "import re\n",
    "txt=\"find all occurencences\"\n",
    "x=re.findall(\"ce\",txt)\n",
    "print(x)\n",
    "y=re.search(\"in\",txt)\n",
    "print(y)\n",
    "\n",
    "\n",
    "import re\n",
    "txt=\"The rain in spain\"\n",
    "x=re.split(\"\\s\",txt)\n",
    "print(x)\n",
    "\n",
    "import re\n",
    "txt=\"Replace all white spaces\"\n",
    "x=re.sub(\"\\s\",\"7\",txt)\n",
    "print(x)\n",
    "\n",
    "\n",
    "x=re.findall(\"[arr]\",txt)\n",
    "print(x)\n",
    "\n",
    "print(re.findall(\"[0123]\",txt))\n",
    "\n",
    "txt=\"8 times before 11:45 AM\"\n",
    "print(re.findall(\"[a-zA-Z]\",txt))\n",
    "\n",
    "\n",
    "txt=\"hello planet\"\n",
    "x=re.findall(\"he.*o\",txt)\n",
    "print(x)"
   ]
  }
 ],
 "metadata": {
  "kernelspec": {
   "display_name": "Python 3 (ipykernel)",
   "language": "python",
   "name": "python3"
  },
  "language_info": {
   "codemirror_mode": {
    "name": "ipython",
    "version": 3
   },
   "file_extension": ".py",
   "mimetype": "text/x-python",
   "name": "python",
   "nbconvert_exporter": "python",
   "pygments_lexer": "ipython3",
   "version": "3.10.5"
  }
 },
 "nbformat": 4,
 "nbformat_minor": 5
}

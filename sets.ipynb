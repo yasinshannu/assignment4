{
 "cells": [
  {
   "cell_type": "code",
   "execution_count": 2,
   "id": "21e85d35",
   "metadata": {},
   "outputs": [
    {
     "name": "stdout",
     "output_type": "stream",
     "text": [
      "{'apple', 'Green', 'gauva', 'banana', '1aaple'}\n",
      "{'apple', 1, 2, 3, 'Green', 'gauva', 4, 'banana', '1aaple'}\n",
      "set()\n",
      "{1, 2, 3, 4, 5}\n",
      "{3}\n",
      "{1, 2, 3, 4, 5}\n",
      "{4, 5}\n"
     ]
    }
   ],
   "source": [
    "s1={\"apple\",\"banana\",\"gauva\",\"1aaple\"}\n",
    "s1.add(\"Green\")\n",
    "print(s1)\n",
    "s1.update({1,2,3,4})\n",
    "print(s1)\n",
    "s1.remove(\"apple\")\n",
    "s1.discard(\"gauva\")\n",
    "s1.pop()\n",
    "s1.remove(2)\n",
    "s1.clear()\n",
    "print(s1)\n",
    "s1={1,2,3}\n",
    "s2={3,4,5}\n",
    "print(s1.union(s2))\n",
    "print(s1.intersection(s2))\n",
    "s1.update(s2)\n",
    "print(s1)\n",
    "s1.intersection_update(s2)\n",
    "s1.isdisjoint({11,12})\n",
    "s1.issubset({1,2,3,4,5})\n",
    "s1.pop()\n",
    "print(s1)"
   ]
  }
 ],
 "metadata": {
  "kernelspec": {
   "display_name": "Python 3 (ipykernel)",
   "language": "python",
   "name": "python3"
  },
  "language_info": {
   "codemirror_mode": {
    "name": "ipython",
    "version": 3
   },
   "file_extension": ".py",
   "mimetype": "text/x-python",
   "name": "python",
   "nbconvert_exporter": "python",
   "pygments_lexer": "ipython3",
   "version": "3.10.5"
  }
 },
 "nbformat": 4,
 "nbformat_minor": 5
}

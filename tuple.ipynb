{
 "cells": [
  {
   "cell_type": "code",
   "execution_count": 4,
   "id": "aff77a66",
   "metadata": {},
   "outputs": [
    {
     "name": "stdout",
     "output_type": "stream",
     "text": [
      "<class 'tuple'>\n",
      "4\n",
      "(3, 4)\n",
      "(1, 10, 3, 4)\n",
      "(1, 10, 3, 4, '100')\n",
      "(1, 10, 3, 4)\n",
      "(1, 10, 3, 4, 'true', 'false', 'false')\n"
     ]
    }
   ],
   "source": [
    "T=(1,2,3,4)\n",
    "len(T)\n",
    "print(type(T))\n",
    "print(T[-1])\n",
    "print(T[2:])\n",
    "k=list(T)\n",
    "k[1]=10\n",
    "T=tuple(k)\n",
    "print(T)\n",
    "k=list(T)\n",
    "k.append(\"100\")\n",
    "T=tuple(k)\n",
    "print(T)\n",
    "k=list(T)\n",
    "k=list(T)\n",
    "k.remove(\"100\")\n",
    "T=tuple(k)\n",
    "print(T)\n",
    "T1=(\"true\",\"false\",\"false\")\n",
    "T2=T+T1\n",
    "print(T2)"
   ]
  }
 ],
 "metadata": {
  "kernelspec": {
   "display_name": "Python 3 (ipykernel)",
   "language": "python",
   "name": "python3"
  },
  "language_info": {
   "codemirror_mode": {
    "name": "ipython",
    "version": 3
   },
   "file_extension": ".py",
   "mimetype": "text/x-python",
   "name": "python",
   "nbconvert_exporter": "python",
   "pygments_lexer": "ipython3",
   "version": "3.10.5"
  }
 },
 "nbformat": 4,
 "nbformat_minor": 5
}

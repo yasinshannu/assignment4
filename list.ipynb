{
 "cells": [
  {
   "cell_type": "code",
   "execution_count": 1,
   "id": "605457b0",
   "metadata": {},
   "outputs": [
    {
     "data": {
      "text/plain": [
       "[1, 2, 3, 4]"
      ]
     },
     "execution_count": 1,
     "metadata": {},
     "output_type": "execute_result"
    }
   ],
   "source": [
    "list=[1,2,3,4]\n",
    "list\n"
   ]
  },
  {
   "cell_type": "code",
   "execution_count": 4,
   "id": "0f7ebae6",
   "metadata": {},
   "outputs": [
    {
     "data": {
      "text/plain": [
       "array([1, 2, 3, 4])"
      ]
     },
     "execution_count": 4,
     "metadata": {},
     "output_type": "execute_result"
    }
   ],
   "source": [
    "import numpy as np\n",
    "array=np.array(list)\n",
    "array"
   ]
  },
  {
   "cell_type": "code",
   "execution_count": 11,
   "id": "99753e51",
   "metadata": {},
   "outputs": [
    {
     "name": "stdout",
     "output_type": "stream",
     "text": [
      "[array([ 4, 47,  8])]\n"
     ]
    }
   ],
   "source": [
    "list1=[1,2,3]\n",
    "list2=[3,45,5]\n",
    "x=np.array(list1)\n",
    "y=np.array(list2)\n",
    "z=[]\n",
    "def list_sum():\n",
    "    z.append(x+y)\n",
    "list_sum()\n",
    "print(z)"
   ]
  },
  {
   "cell_type": "code",
   "execution_count": 12,
   "id": "fbe59de3",
   "metadata": {},
   "outputs": [
    {
     "data": {
      "text/plain": [
       "[1, 2, 3, 4]"
      ]
     },
     "execution_count": 12,
     "metadata": {},
     "output_type": "execute_result"
    }
   ],
   "source": [
    "import numpy as np\n",
    "array=[1,2,3,4]\n",
    "array"
   ]
  },
  {
   "cell_type": "code",
   "execution_count": 16,
   "id": "d8e86d7e",
   "metadata": {},
   "outputs": [
    {
     "data": {
      "text/plain": [
       "array([1, 2, 3, 4])"
      ]
     },
     "execution_count": 16,
     "metadata": {},
     "output_type": "execute_result"
    }
   ],
   "source": [
    "import numpy as np\n",
    "array1=[1,2,3,4]\n",
    "np.array(array1)"
   ]
  },
  {
   "cell_type": "code",
   "execution_count": 22,
   "id": "30b7fa31",
   "metadata": {},
   "outputs": [
    {
     "data": {
      "text/plain": [
       "array([[1, 2, 3, 4, 5],\n",
       "       [3, 3, 5, 5, 6]])"
      ]
     },
     "execution_count": 22,
     "metadata": {},
     "output_type": "execute_result"
    }
   ],
   "source": [
    "array=np.array([[1,2,3,4,5],[3,3,5,5,6]])\n",
    "array"
   ]
  },
  {
   "cell_type": "code",
   "execution_count": 23,
   "id": "6d14f320",
   "metadata": {},
   "outputs": [
    {
     "data": {
      "text/plain": [
       "dtype('int32')"
      ]
     },
     "execution_count": 23,
     "metadata": {},
     "output_type": "execute_result"
    }
   ],
   "source": [
    "array.dtype\n"
   ]
  },
  {
   "cell_type": "code",
   "execution_count": 25,
   "id": "d9768c74",
   "metadata": {},
   "outputs": [
    {
     "data": {
      "text/plain": [
       "10"
      ]
     },
     "execution_count": 25,
     "metadata": {},
     "output_type": "execute_result"
    }
   ],
   "source": [
    "array.size"
   ]
  },
  {
   "cell_type": "code",
   "execution_count": 26,
   "id": "3c04de22",
   "metadata": {},
   "outputs": [
    {
     "data": {
      "text/plain": [
       "2"
      ]
     },
     "execution_count": 26,
     "metadata": {},
     "output_type": "execute_result"
    }
   ],
   "source": [
    "array.ndim\n"
   ]
  },
  {
   "cell_type": "code",
   "execution_count": 27,
   "id": "57d22f3b",
   "metadata": {},
   "outputs": [
    {
     "data": {
      "text/plain": [
       "(2, 5)"
      ]
     },
     "execution_count": 27,
     "metadata": {},
     "output_type": "execute_result"
    }
   ],
   "source": [
    "array.shape"
   ]
  },
  {
   "cell_type": "code",
   "execution_count": 33,
   "id": "71799cb8",
   "metadata": {},
   "outputs": [
    {
     "data": {
      "text/plain": [
       "array([17.        , 17.28571429, 17.57142857, 17.85714286, 18.14285714,\n",
       "       18.42857143, 18.71428571, 19.        , 19.28571429, 19.57142857,\n",
       "       19.85714286, 20.14285714, 20.42857143, 20.71428571, 21.        ,\n",
       "       21.28571429, 21.57142857, 21.85714286, 22.14285714, 22.42857143,\n",
       "       22.71428571, 23.        , 23.28571429, 23.57142857, 23.85714286,\n",
       "       24.14285714, 24.42857143, 24.71428571, 25.        , 25.28571429,\n",
       "       25.57142857, 25.85714286, 26.14285714, 26.42857143, 26.71428571,\n",
       "       27.        , 27.28571429, 27.57142857, 27.85714286, 28.14285714,\n",
       "       28.42857143, 28.71428571, 29.        , 29.28571429, 29.57142857,\n",
       "       29.85714286, 30.14285714, 30.42857143, 30.71428571, 31.        ])"
      ]
     },
     "execution_count": 33,
     "metadata": {},
     "output_type": "execute_result"
    }
   ],
   "source": [
    "array=np.linspace(start=17,stop=31,num=50)\n",
    "array"
   ]
  },
  {
   "cell_type": "code",
   "execution_count": 37,
   "id": "df0a6815",
   "metadata": {},
   "outputs": [
    {
     "name": "stdout",
     "output_type": "stream",
     "text": [
      "[0, 1, 2, 3]\n"
     ]
    }
   ],
   "source": [
    "array1=[1,2,3]\n",
    "array2=[0]\n",
    "array3=[1]\n",
    "array3[0]=array2[0]\n",
    "array3[1:4]=array1[:]\n",
    "print(array3)"
   ]
  },
  {
   "cell_type": "code",
   "execution_count": null,
   "id": "c61197c9",
   "metadata": {},
   "outputs": [],
   "source": []
  },
  {
   "cell_type": "code",
   "execution_count": null,
   "id": "671a97c2",
   "metadata": {},
   "outputs": [],
   "source": []
  },
  {
   "cell_type": "code",
   "execution_count": null,
   "id": "d2354f7d",
   "metadata": {},
   "outputs": [],
   "source": []
  },
  {
   "cell_type": "code",
   "execution_count": null,
   "id": "b8becde6",
   "metadata": {},
   "outputs": [],
   "source": []
  },
  {
   "cell_type": "code",
   "execution_count": null,
   "id": "5a962356",
   "metadata": {},
   "outputs": [],
   "source": []
  },
  {
   "cell_type": "code",
   "execution_count": null,
   "id": "6c1a4d09",
   "metadata": {},
   "outputs": [],
   "source": []
  },
  {
   "cell_type": "code",
   "execution_count": null,
   "id": "6af98fe6",
   "metadata": {},
   "outputs": [],
   "source": []
  },
  {
   "cell_type": "code",
   "execution_count": null,
   "id": "e14b979d",
   "metadata": {},
   "outputs": [],
   "source": []
  }
 ],
 "metadata": {
  "kernelspec": {
   "display_name": "Python 3 (ipykernel)",
   "language": "python",
   "name": "python3"
  },
  "language_info": {
   "codemirror_mode": {
    "name": "ipython",
    "version": 3
   },
   "file_extension": ".py",
   "mimetype": "text/x-python",
   "name": "python",
   "nbconvert_exporter": "python",
   "pygments_lexer": "ipython3",
   "version": "3.10.5"
  }
 },
 "nbformat": 4,
 "nbformat_minor": 5
}
